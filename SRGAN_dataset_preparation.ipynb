{
 "cells": [
  {
   "cell_type": "code",
   "execution_count": 1,
   "metadata": {},
   "outputs": [],
   "source": [
    "import cv2\n",
    "import numpy as np\n",
    "import os\n",
    "import matplotlib.pyplot as plt\n"
   ]
  },
  {
   "cell_type": "code",
   "execution_count": 6,
   "metadata": {},
   "outputs": [
    {
     "ename": "error",
     "evalue": "OpenCV(4.7.0) D:\\a\\opencv-python\\opencv-python\\opencv\\modules\\imgproc\\src\\resize.cpp:4062: error: (-215:Assertion failed) !ssize.empty() in function 'cv::resize'\n",
     "output_type": "error",
     "traceback": [
      "\u001b[1;31m---------------------------------------------------------------------------\u001b[0m",
      "\u001b[1;31merror\u001b[0m                                     Traceback (most recent call last)",
      "\u001b[1;32mc:\\Users\\saivi\\Desktop\\GANs_Corsera\\SRGAN\\SRGAN_dataset_preparation.ipynb Cell 2\u001b[0m in \u001b[0;36m<cell line: 1>\u001b[1;34m()\u001b[0m\n\u001b[0;32m      <a href='vscode-notebook-cell:/c%3A/Users/saivi/Desktop/GANs_Corsera/SRGAN/SRGAN_dataset_preparation.ipynb#W1sZmlsZQ%3D%3D?line=0'>1</a>\u001b[0m \u001b[39mfor\u001b[39;00m img \u001b[39min\u001b[39;00m os\u001b[39m.\u001b[39mlistdir(\u001b[39mr\u001b[39m\u001b[39m\"\u001b[39m\u001b[39mC:/Users/saivi/Desktop/GANs_Corsera/mirflickr25k/mirflickr\u001b[39m\u001b[39m\"\u001b[39m):\n\u001b[0;32m      <a href='vscode-notebook-cell:/c%3A/Users/saivi/Desktop/GANs_Corsera/SRGAN/SRGAN_dataset_preparation.ipynb#W1sZmlsZQ%3D%3D?line=1'>2</a>\u001b[0m     img_array \u001b[39m=\u001b[39m cv2\u001b[39m.\u001b[39mimread(\u001b[39mr\u001b[39m\u001b[39m\"\u001b[39m\u001b[39mC:/Users/saivi/Desktop/GANs_Corsera/mirflickr25k/mirflickr\u001b[39m\u001b[39m\"\u001b[39m \u001b[39m+\u001b[39m img)\n\u001b[1;32m----> <a href='vscode-notebook-cell:/c%3A/Users/saivi/Desktop/GANs_Corsera/SRGAN/SRGAN_dataset_preparation.ipynb#W1sZmlsZQ%3D%3D?line=3'>4</a>\u001b[0m     img_array \u001b[39m=\u001b[39m cv2\u001b[39m.\u001b[39;49mresize(img_array, (\u001b[39m128\u001b[39;49m,\u001b[39m128\u001b[39;49m))\n\u001b[0;32m      <a href='vscode-notebook-cell:/c%3A/Users/saivi/Desktop/GANs_Corsera/SRGAN/SRGAN_dataset_preparation.ipynb#W1sZmlsZQ%3D%3D?line=4'>5</a>\u001b[0m     lr_img_array \u001b[39m=\u001b[39m cv2\u001b[39m.\u001b[39mresize(img_array, (\u001b[39m32\u001b[39m,\u001b[39m32\u001b[39m))\n\u001b[0;32m      <a href='vscode-notebook-cell:/c%3A/Users/saivi/Desktop/GANs_Corsera/SRGAN/SRGAN_dataset_preparation.ipynb#W1sZmlsZQ%3D%3D?line=5'>6</a>\u001b[0m     cv2\u001b[39m.\u001b[39mimwrite(\u001b[39mr\u001b[39m\u001b[39m\"\u001b[39m\u001b[39mC:/Users/saivi/Desktop/GANs_Corsera/SRGAN/hr_images\u001b[39m\u001b[39m\"\u001b[39m\u001b[39m+\u001b[39mimg, img_array)\n",
      "\u001b[1;31merror\u001b[0m: OpenCV(4.7.0) D:\\a\\opencv-python\\opencv-python\\opencv\\modules\\imgproc\\src\\resize.cpp:4062: error: (-215:Assertion failed) !ssize.empty() in function 'cv::resize'\n"
     ]
    }
   ],
   "source": [
    "for img in os.listdir(r\"C:/Users/saivi/Desktop/GANs_Corsera/mirflickr25k/mirflickr\"):\n",
    "    img_array = cv2.imread(r\"C:/Users/saivi/Desktop/GANs_Corsera/mirflickr25k/mirflickr\" + img)\n",
    "\n",
    "    img_array = cv2.resize(img_array, (128,128))\n",
    "    lr_img_array = cv2.resize(img_array, (32,32))\n",
    "    cv2.imwrite(r\"C:/Users/saivi/Desktop/GANs_Corsera/SRGAN/hr_images\"+img, img_array)\n",
    "    cv2.imwrite(r\"C:/Users/saivi/Desktop/GANs_Corsera/SRGAN/lr_images\"+img, lr_img_array)"
   ]
  },
  {
   "cell_type": "code",
   "execution_count": null,
   "metadata": {},
   "outputs": [],
   "source": [
    "import os\n",
    "import cv2\n",
    "\n",
    "input_folder = r\"C:/Users/saivi/Desktop/GANs_Corsera/mirflickr25k/mirflickr\"\n",
    "output_hr_folder = r\"C:/Users/saivi/Desktop/GANs_Corsera/SRGAN/hr_images/\"\n",
    "output_lr_folder = r\"C:/Users/saivi/Desktop/GANs_Corsera/SRGAN/lr_images/\"\n",
    "\n",
    "for img in os.listdir(input_folder):\n",
    "    img_path = os.path.join(input_folder, img)\n",
    "    img_array = cv2.imread(img_path)\n",
    "\n",
    "    if img_array is not None:  # Check if the image was read successfully\n",
    "        img_array = cv2.resize(img_array, (128, 128))\n",
    "        lr_img_array = cv2.resize(img_array, (32, 32))\n",
    "        cv2.imwrite(output_hr_folder + img, img_array)\n",
    "        cv2.imwrite(output_lr_folder + img, lr_img_array)\n",
    "    else:\n",
    "        print(f\"Error reading image: {img_path}\")\n"
   ]
  }
 ],
 "metadata": {
  "kernelspec": {
   "display_name": "base",
   "language": "python",
   "name": "python3"
  },
  "language_info": {
   "codemirror_mode": {
    "name": "ipython",
    "version": 3
   },
   "file_extension": ".py",
   "mimetype": "text/x-python",
   "name": "python",
   "nbconvert_exporter": "python",
   "pygments_lexer": "ipython3",
   "version": "3.9.12"
  },
  "orig_nbformat": 4
 },
 "nbformat": 4,
 "nbformat_minor": 2
}
